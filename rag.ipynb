{
 "cells": [
  {
   "cell_type": "markdown",
   "metadata": {},
   "source": [
    "Data Ingestion"
   ]
  },
  {
   "cell_type": "code",
   "execution_count": 9,
   "metadata": {},
   "outputs": [
    {
     "data": {
      "text/plain": [
       "[Document(metadata={'source': './text.txt'}, page_content='The world economy or global economy is the economy of all humans in the world, referring to the global economic system, which includes all economic activities conducted both within and between nations, including production, consumption, economic management, work in general, financial transactions and trade of goods and services.[1][2] In some contexts, the two terms are distinct: the \"international\" or \"global economy\" is measured separately and distinguished from national economies, while the \"world economy\" is simply an aggregate of the separate countries\\' measurements. Beyond the minimum standard concerning value in production, use and exchange, the definitions, representations, models and valuations of the world economy vary widely. It is inseparable from the geography and ecology of planet Earth.\\n\\nIt is common to limit questions of the world economy exclusively to human economic activity, and the world economy is typically judged in monetary terms, even in cases in which there is no efficient market to help valuate certain goods or services, or in cases in which a lack of independent research, genuine data or government cooperation makes calculating figures difficult. Typical examples are illegal drugs and other black market goods, which by any standard are a part of the world economy, but for which there is, by definition, no legal market of any kind.\\n\\nHowever, even in cases in which there is a clear and efficient market to establish monetary value, economists do not typically use the current or official exchange rate to translate the monetary units of this market into a single unit for the world economy since exchange rates typically do not closely reflect worldwide value â€“ for example, in cases where the volume or price of transactions is closely regulated by the government.\\n\\nRather, market valuations in a local currency are typically translated to a single monetary unit using the idea of purchasing power. This is the method used below, which is used for estimating worldwide economic activity in terms of real United States dollars or euros. However, the world economy can be evaluated and expressed in many more ways. It is unclear, for example, how many of the world\\'s 7.8 billion people (as of March 2020)[3][4] have most of their economic activity reflected in these valuations.\\n\\nAccording to Maddison[who?], until the middle of the 19th century, global output was dominated by China and India with Indian subcontinent being the world\\'s largest economy from 1 C.E to 17 C.E. Waves of the Industrial Revolution in Western Europe and Northern America shifted the shares to the Western Hemisphere. As of 2024, the following 20 countries or collectives have reached an economy of at least US$2 trillion by GDP in nominal or PPP terms: Brazil, Canada, China, Egypt, France, Germany, India, Indonesia, Italy, Japan, Mexico, South Korea, Russia, Saudi Arabia, Spain, Turkey, the United Kingdom, the United States, the European Union and the African Union.[5][6]\\n\\nDespite high levels of government investment, the global economy decreased by 3.4% in 2020 in the midst of the COVID-19 pandemic,[7] an improvement from the World Bank\\'s initial prediction of a 5.2 percent decrease.[8] Cities account for 80% of global GDP, thus they faced the brunt of this decline.[9][10] The world economy increased again in 2021 with an estimated 5.5 percent rebound.[11]\\n\\nTake a short survey and help us improve Wikipedia\\n\\nNo thanksVisit survey\\nSurvey data handled by a third party. Privacy To stop QuickSurveys from appearing, change your preferences.\\nOverview\\nWorld economy by country groups\\nCountry group\\tList of country groups by\\nGDP (nominal)\\nin 2024 (or at peaked level)\\tList of country groups by\\nGDP (PPP)\\nin 2024 (or at peaked level)\\tNumber of\\ncountries\\tMajor economies\\nValue\\n(in millions of US$)\\tShare of\\nGlobal GDP\\tValue\\n(in millions of US$)\\tShare of\\nGlobal GDP\\nMajor advanced economies (G7)\\n(Continents: Europe, North America and Asia)\\t48,678,121\\t44.5%\\t55,025,255\\t29.6%\\t7\\t United States\\n Japan\\n Germany\\n France\\n United Kingdom\\n Italy\\n Canada\\nEmerging and developing Asia\\n(Continents: Asia and Oceania)\\t26,686,077\\t24.4%\\t63,318,654\\t34.1%\\t30\\t China\\n India\\n Indonesia\\n Thailand\\n Bangladesh\\n Vietnam\\n Philippines\\n Malaysia\\nOther advanced economies\\n(advanced economies excluding the G7)\\n(Continents: Europe, Asia, Oceania and North America)\\t15,134,208\\t13.8%\\t20,390,379\\t11.0%\\t34\\t South Korea\\n Spain\\n Australia\\n Taiwan\\n Netherlands\\n Switzerland\\n Singapore\\n Belgium\\n Sweden\\n Ireland\\n Norway\\n Austria\\nLatin America and the Caribbean\\n(Continents: South America and North America)\\t7,004,688\\t6.4%\\t13,364,843\\t7.2%\\t33\\t Brazil\\n Mexico\\n Argentina\\n Colombia\\nEmerging and developing Europe\\n(Continents: Europe and Asia)\\t5,164,278\\t4.7%\\t13,793,802\\t7.4%\\t15\\t Russia\\n Turkey\\n Poland\\n Romania\\n Ukraine\\nMiddle East and Central Asia\\n(Continents: Asia and Africa)\\t4,965,982\\t4.5%\\t13,933,205\\t7.5%\\t32\\t Saudi Arabia\\n Egypt\\n Iran\\n Pakistan\\n United Arab Emirates\\n Kazakhstan\\n Algeria\\nSub-Saharan Africa\\n(Continent: Africa)\\t1,895,862\\n(peaked at 2,011,398 in 2022)\\t1.7%\\t5,850,984\\t3.2%\\t45\\t Nigeria\\n South Africa\\nWorld\\t109,529,216\\t100.0%\\t185,677,122\\t100.0%\\t196\\t\\nWorld economy by continent\\nMain article: List of continents by GDP Â§ Continents by GDP (nominal)\\nGDP sector composition (2019 estimate)[12][13]\\nContinent\\tAgricultural\\tIndustrial\\tService\\nWorld\\t7,908.260\\t38,354.363\\t81,575.461\\nAsia\\t5,105.362\\t20,858.549\\t32,939.397\\nNorth America\\t292.467\\t5,008.594\\t18,426.200\\nEurope\\t838.199\\t8,175.402\\t20,598.902\\nSouth America\\t539.510\\t2,014.140\\t5,024.223\\nAfrica\\t1,076.690\\t1,941.037\\t3,559.579\\nOceania\\t56.032\\t356.641\\t1,027.160\\n')]"
      ]
     },
     "execution_count": 9,
     "metadata": {},
     "output_type": "execute_result"
    }
   ],
   "source": [
    "from langchain_community.document_loaders import TextLoader\n",
    "loader=TextLoader(\"./text.txt\")\n",
    "docs=loader.load()\n",
    "docs\n"
   ]
  },
  {
   "cell_type": "code",
   "execution_count": 12,
   "metadata": {},
   "outputs": [
    {
     "data": {
      "text/plain": [
       "'●\\nTeam\\nLeadership\\n:\\nLed\\ntroubleshooting\\nefforts\\nand\\nsupported\\nteam\\ngoals.\\nLead\\nEngineer\\n(Microsoft\\nAds)\\nHCL\\nOctober\\n2018\\nto\\nSeptember\\n2019\\n●\\nHandled\\ndelivery\\nissues\\nfor\\nBing\\nAds\\nand\\noptimized\\naccounts.\\n●\\nProvided\\ntroubleshooting\\nsupport\\nto\\nagencies\\nglobally\\nto\\nachieve\\nbusiness\\ngoals.\\n●\\nManaged\\nL2\\ncases\\nand\\noptimized\\ncampaign\\nperformance.\\nSenior\\nSpecialist\\nGoogle\\nAds\\nSeptember\\n2017\\nto\\nSeptember\\n2018\\n●\\nOptimized\\nGoogle\\nAds\\naccounts\\nand\\nresolved\\nclient\\nissues.\\n●\\nProvided\\nsupport\\nfor\\nGA,\\nMerchant\\nCenter,\\nand\\nSearch\\nConsole.\\n●\\nAssisted\\nclients\\nin\\nsetting\\nup\\nGoogle\\nAds\\nto\\nmeet\\nbusiness\\nobjectives.\\nExecutive\\nProcess\\nin\\nDoubleClick\\nSearch\\nJob\\nAccenture\\nPvt\\nLtd\\nApril\\n2016\\nto\\nSeptember\\n2017\\n●\\nTroubleshot\\nissues\\nrelated\\nto\\nthe\\nDoubleClick\\ntool\\nand\\nmanaged\\ndiscrepancies\\nacross\\nvarious\\nsearch\\nengines.\\n●\\nTracked\\nperformance\\nmetrics\\nfor\\nclients.\\nDM\\nExecutive\\nProdigitas\\nPvt.\\nLtd\\nMarch\\n2015\\nto\\nApril\\n2016\\n●\\nManaged\\nPPC\\ncampaign\\nstructures,\\nreporting,\\nand\\nauditing\\nfor\\n320\\ncampaigns.\\n●\\nHandled\\nsocial\\nmedia\\naccounts\\nfor\\nmultiple\\ncampaigns\\nand\\nperformed\\nSEO\\noptimization.\\nEducation\\n●\\nPGDM\\nin\\nMarketing\\n,\\nRed\\nAcademy,\\nVancouver,\\nBC\\nOctober\\n2019\\nto\\nPresent\\n●\\nBachelors\\nOf\\nEngineering\\nin\\nElectronics\\n&\\nTelecommunication\\n,\\nDY\\nPatil\\nCollege\\nof\\nEngineering,\\nPune,\\nMaharashtra\\n2014\\nSkills'"
      ]
     },
     "execution_count": 12,
     "metadata": {},
     "output_type": "execute_result"
    }
   ],
   "source": [
    "from langchain_community.document_loaders import PyPDFLoader\n",
    "loader=PyPDFLoader(\"resume.pdf\")\n",
    "pdfdoc=loader.load()\n",
    "pdfdoc[1].page_content"
   ]
  },
  {
   "cell_type": "markdown",
   "metadata": {},
   "source": [
    "Data Transformation"
   ]
  },
  {
   "cell_type": "code",
   "execution_count": 24,
   "metadata": {},
   "outputs": [
    {
     "data": {
      "text/plain": [
       "[Document(metadata={'source': './text.txt'}, page_content='The world economy or global economy is the economy of all humans in the world, referring to the global economic system, which includes all economic activities conducted both within and between nations, including production, consumption, economic management, work in general, financial transactions and trade of goods and services.[1][2] In some contexts, the two terms are distinct: the \"international\" or \"global economy\" is measured separately and distinguished from national economies, while the'),\n",
       " Document(metadata={'source': './text.txt'}, page_content='distinguished from national economies, while the \"world economy\" is simply an aggregate of the separate countries\\' measurements. Beyond the minimum standard concerning value in production, use and exchange, the definitions, representations, models and valuations of the world economy vary widely. It is inseparable from the geography and ecology of planet Earth.'),\n",
       " Document(metadata={'source': './text.txt'}, page_content='It is common to limit questions of the world economy exclusively to human economic activity, and the world economy is typically judged in monetary terms, even in cases in which there is no efficient market to help valuate certain goods or services, or in cases in which a lack of independent research, genuine data or government cooperation makes calculating figures difficult. Typical examples are illegal drugs and other black market goods, which by any standard are a part of the world economy,'),\n",
       " Document(metadata={'source': './text.txt'}, page_content='by any standard are a part of the world economy, but for which there is, by definition, no legal market of any kind.'),\n",
       " Document(metadata={'source': './text.txt'}, page_content='However, even in cases in which there is a clear and efficient market to establish monetary value, economists do not typically use the current or official exchange rate to translate the monetary units of this market into a single unit for the world economy since exchange rates typically do not closely reflect worldwide value â€“ for example, in cases where the volume or price of transactions is closely regulated by the government.'),\n",
       " Document(metadata={'source': './text.txt'}, page_content=\"Rather, market valuations in a local currency are typically translated to a single monetary unit using the idea of purchasing power. This is the method used below, which is used for estimating worldwide economic activity in terms of real United States dollars or euros. However, the world economy can be evaluated and expressed in many more ways. It is unclear, for example, how many of the world's 7.8 billion people (as of March 2020)[3][4] have most of their economic activity reflected in these\"),\n",
       " Document(metadata={'source': './text.txt'}, page_content='of their economic activity reflected in these valuations.'),\n",
       " Document(metadata={'source': './text.txt'}, page_content=\"According to Maddison[who?], until the middle of the 19th century, global output was dominated by China and India with Indian subcontinent being the world's largest economy from 1 C.E to 17 C.E. Waves of the Industrial Revolution in Western Europe and Northern America shifted the shares to the Western Hemisphere. As of 2024, the following 20 countries or collectives have reached an economy of at least US$2 trillion by GDP in nominal or PPP terms: Brazil, Canada, China, Egypt, France, Germany,\"),\n",
       " Document(metadata={'source': './text.txt'}, page_content='Brazil, Canada, China, Egypt, France, Germany, India, Indonesia, Italy, Japan, Mexico, South Korea, Russia, Saudi Arabia, Spain, Turkey, the United Kingdom, the United States, the European Union and the African Union.[5][6]'),\n",
       " Document(metadata={'source': './text.txt'}, page_content=\"Despite high levels of government investment, the global economy decreased by 3.4% in 2020 in the midst of the COVID-19 pandemic,[7] an improvement from the World Bank's initial prediction of a 5.2 percent decrease.[8] Cities account for 80% of global GDP, thus they faced the brunt of this decline.[9][10] The world economy increased again in 2021 with an estimated 5.5 percent rebound.[11]\\n\\nTake a short survey and help us improve Wikipedia\"),\n",
       " Document(metadata={'source': './text.txt'}, page_content='No thanksVisit survey\\nSurvey data handled by a third party. Privacy To stop QuickSurveys from appearing, change your preferences.\\nOverview\\nWorld economy by country groups\\nCountry group\\tList of country groups by\\nGDP (nominal)\\nin 2024 (or at peaked level)\\tList of country groups by\\nGDP (PPP)\\nin 2024 (or at peaked level)\\tNumber of\\ncountries\\tMajor economies\\nValue\\n(in millions of US$)\\tShare of\\nGlobal GDP\\tValue\\n(in millions of US$)\\tShare of\\nGlobal GDP\\nMajor advanced economies (G7)'),\n",
       " Document(metadata={'source': './text.txt'}, page_content='Global GDP\\nMajor advanced economies (G7)\\n(Continents: Europe, North America and Asia)\\t48,678,121\\t44.5%\\t55,025,255\\t29.6%\\t7\\t United States\\n Japan\\n Germany\\n France\\n United Kingdom\\n Italy\\n Canada\\nEmerging and developing Asia\\n(Continents: Asia and Oceania)\\t26,686,077\\t24.4%\\t63,318,654\\t34.1%\\t30\\t China\\n India\\n Indonesia\\n Thailand\\n Bangladesh\\n Vietnam\\n Philippines\\n Malaysia\\nOther advanced economies\\n(advanced economies excluding the G7)'),\n",
       " Document(metadata={'source': './text.txt'}, page_content='(advanced economies excluding the G7)\\n(Continents: Europe, Asia, Oceania and North America)\\t15,134,208\\t13.8%\\t20,390,379\\t11.0%\\t34\\t South Korea\\n Spain\\n Australia\\n Taiwan\\n Netherlands\\n Switzerland\\n Singapore\\n Belgium\\n Sweden\\n Ireland\\n Norway\\n Austria\\nLatin America and the Caribbean\\n(Continents: South America and North America)\\t7,004,688\\t6.4%\\t13,364,843\\t7.2%\\t33\\t Brazil\\n Mexico\\n Argentina\\n Colombia\\nEmerging and developing Europe\\n(Continents: Europe and Asia)\\t5,164,278\\t4.7%\\t13,793,802\\t7.4%\\t15\\t Russia'),\n",
       " Document(metadata={'source': './text.txt'}, page_content='Turkey\\n Poland\\n Romania\\n Ukraine\\nMiddle East and Central Asia\\n(Continents: Asia and Africa)\\t4,965,982\\t4.5%\\t13,933,205\\t7.5%\\t32\\t Saudi Arabia\\n Egypt\\n Iran\\n Pakistan\\n United Arab Emirates\\n Kazakhstan\\n Algeria\\nSub-Saharan Africa\\n(Continent: Africa)\\t1,895,862\\n(peaked at 2,011,398 in 2022)\\t1.7%\\t5,850,984\\t3.2%\\t45\\t Nigeria\\n South Africa\\nWorld\\t109,529,216\\t100.0%\\t185,677,122\\t100.0%\\t196\\t\\nWorld economy by continent\\nMain article: List of continents by GDP Â§ Continents by GDP (nominal)'),\n",
       " Document(metadata={'source': './text.txt'}, page_content='GDP sector composition (2019 estimate)[12][13]\\nContinent\\tAgricultural\\tIndustrial\\tService\\nWorld\\t7,908.260\\t38,354.363\\t81,575.461\\nAsia\\t5,105.362\\t20,858.549\\t32,939.397\\nNorth America\\t292.467\\t5,008.594\\t18,426.200\\nEurope\\t838.199\\t8,175.402\\t20,598.902\\nSouth America\\t539.510\\t2,014.140\\t5,024.223\\nAfrica\\t1,076.690\\t1,941.037\\t3,559.579\\nOceania\\t56.032\\t356.641\\t1,027.160')]"
      ]
     },
     "execution_count": 24,
     "metadata": {},
     "output_type": "execute_result"
    }
   ],
   "source": [
    "from langchain_text_splitters import RecursiveCharacterTextSplitter\n",
    "text_splitter=RecursiveCharacterTextSplitter(chunk_size=500,chunk_overlap=50)\n",
    "final_documents=text_splitter.split_documents(docs)\n",
    "final_documents"
   ]
  },
  {
   "cell_type": "code",
   "execution_count": 23,
   "metadata": {},
   "outputs": [
    {
     "data": {
      "text/plain": [
       "[Document(metadata={'source': './text.txt'}, page_content='The world economy or global economy is the economy of all humans in the world, referring to the global economic system, which includes all economic activities conducted both within and between nations, including production, consumption, economic management, work in general, financial transactions and trade of goods and services.[1][2] In some contexts, the two terms are distinct: the \"international\" or \"global economy\" is measured separately and distinguished from national economies, while the \"world economy\" is simply an aggregate of the separate countries\\' measurements. Beyond the minimum standard concerning value in production, use and exchange, the definitions, representations, models and valuations of the world economy vary widely. It is inseparable from the geography and ecology of planet Earth.\\n\\nIt is common to limit questions of the world economy exclusively to human economic activity, and the world economy is typically judged in monetary terms, even in cases in which there is no efficient market to help valuate certain goods or services, or in cases in which a lack of independent research, genuine data or government cooperation makes calculating figures difficult. Typical examples are illegal drugs and other black market goods, which by any standard are a part of the world economy, but for which there is, by definition, no legal market of any kind.\\n\\nHowever, even in cases in which there is a clear and efficient market to establish monetary value, economists do not typically use the current or official exchange rate to translate the monetary units of this market into a single unit for the world economy since exchange rates typically do not closely reflect worldwide value â€“ for example, in cases where the volume or price of transactions is closely regulated by the government.\\n\\nRather, market valuations in a local currency are typically translated to a single monetary unit using the idea of purchasing power. This is the method used below, which is used for estimating worldwide economic activity in terms of real United States dollars or euros. However, the world economy can be evaluated and expressed in many more ways. It is unclear, for example, how many of the world\\'s 7.8 billion people (as of March 2020)[3][4] have most of their economic activity reflected in these valuations.'),\n",
       " Document(metadata={'source': './text.txt'}, page_content=\"According to Maddison[who?], until the middle of the 19th century, global output was dominated by China and India with Indian subcontinent being the world's largest economy from 1 C.E to 17 C.E. Waves of the Industrial Revolution in Western Europe and Northern America shifted the shares to the Western Hemisphere. As of 2024, the following 20 countries or collectives have reached an economy of at least US$2 trillion by GDP in nominal or PPP terms: Brazil, Canada, China, Egypt, France, Germany, India, Indonesia, Italy, Japan, Mexico, South Korea, Russia, Saudi Arabia, Spain, Turkey, the United Kingdom, the United States, the European Union and the African Union.[5][6]\\n\\nDespite high levels of government investment, the global economy decreased by 3.4% in 2020 in the midst of the COVID-19 pandemic,[7] an improvement from the World Bank's initial prediction of a 5.2 percent decrease.[8] Cities account for 80% of global GDP, thus they faced the brunt of this decline.[9][10] The world economy increased again in 2021 with an estimated 5.5 percent rebound.[11]\\n\\nTake a short survey and help us improve Wikipedia\"),\n",
       " Document(metadata={'source': './text.txt'}, page_content='No thanksVisit survey\\nSurvey data handled by a third party. Privacy To stop QuickSurveys from appearing, change your preferences.\\nOverview\\nWorld economy by country groups\\nCountry group\\tList of country groups by\\nGDP (nominal)\\nin 2024 (or at peaked level)\\tList of country groups by\\nGDP (PPP)\\nin 2024 (or at peaked level)\\tNumber of\\ncountries\\tMajor economies\\nValue\\n(in millions of US$)\\tShare of\\nGlobal GDP\\tValue\\n(in millions of US$)\\tShare of\\nGlobal GDP\\nMajor advanced economies (G7)\\n(Continents: Europe, North America and Asia)\\t48,678,121\\t44.5%\\t55,025,255\\t29.6%\\t7\\t United States\\n Japan\\n Germany\\n France\\n United Kingdom\\n Italy\\n Canada\\nEmerging and developing Asia\\n(Continents: Asia and Oceania)\\t26,686,077\\t24.4%\\t63,318,654\\t34.1%\\t30\\t China\\n India\\n Indonesia\\n Thailand\\n Bangladesh\\n Vietnam\\n Philippines\\n Malaysia\\nOther advanced economies\\n(advanced economies excluding the G7)\\n(Continents: Europe, Asia, Oceania and North America)\\t15,134,208\\t13.8%\\t20,390,379\\t11.0%\\t34\\t South Korea\\n Spain\\n Australia\\n Taiwan\\n Netherlands\\n Switzerland\\n Singapore\\n Belgium\\n Sweden\\n Ireland\\n Norway\\n Austria\\nLatin America and the Caribbean\\n(Continents: South America and North America)\\t7,004,688\\t6.4%\\t13,364,843\\t7.2%\\t33\\t Brazil\\n Mexico\\n Argentina\\n Colombia\\nEmerging and developing Europe\\n(Continents: Europe and Asia)\\t5,164,278\\t4.7%\\t13,793,802\\t7.4%\\t15\\t Russia\\n Turkey\\n Poland\\n Romania\\n Ukraine\\nMiddle East and Central Asia\\n(Continents: Asia and Africa)\\t4,965,982\\t4.5%\\t13,933,205\\t7.5%\\t32\\t Saudi Arabia\\n Egypt\\n Iran\\n Pakistan\\n United Arab Emirates\\n Kazakhstan\\n Algeria\\nSub-Saharan Africa'),\n",
       " Document(metadata={'source': './text.txt'}, page_content='Egypt\\n Iran\\n Pakistan\\n United Arab Emirates\\n Kazakhstan\\n Algeria\\nSub-Saharan Africa\\n(Continent: Africa)\\t1,895,862\\n(peaked at 2,011,398 in 2022)\\t1.7%\\t5,850,984\\t3.2%\\t45\\t Nigeria\\n South Africa\\nWorld\\t109,529,216\\t100.0%\\t185,677,122\\t100.0%\\t196\\t\\nWorld economy by continent\\nMain article: List of continents by GDP Â§ Continents by GDP (nominal)\\nGDP sector composition (2019 estimate)[12][13]\\nContinent\\tAgricultural\\tIndustrial\\tService\\nWorld\\t7,908.260\\t38,354.363\\t81,575.461\\nAsia\\t5,105.362\\t20,858.549\\t32,939.397\\nNorth America\\t292.467\\t5,008.594\\t18,426.200\\nEurope\\t838.199\\t8,175.402\\t20,598.902\\nSouth America\\t539.510\\t2,014.140\\t5,024.223\\nAfrica\\t1,076.690\\t1,941.037\\t3,559.579\\nOceania\\t56.032\\t356.641\\t1,027.160')]"
      ]
     },
     "execution_count": 23,
     "metadata": {},
     "output_type": "execute_result"
    }
   ],
   "source": [
    "from langchain_text_splitters import TokenTextSplitter\n",
    "token_splitter=RecursiveCharacterTextSplitter.from_tiktoken_encoder(chunk_size=500,chunk_overlap=50)\n",
    "token_document=token_splitter.split_documents(docs)\n",
    "token_document"
   ]
  },
  {
   "cell_type": "markdown",
   "metadata": {},
   "source": [
    "Convert to Vector"
   ]
  },
  {
   "cell_type": "markdown",
   "metadata": {},
   "source": [
    "Embedding techniques : OpenAI, Hugging Face, Ollama : Converting texts into Vectors..."
   ]
  },
  {
   "cell_type": "code",
   "execution_count": 25,
   "metadata": {},
   "outputs": [],
   "source": [
    "import os\n",
    "from dotenv import load_dotenv\n",
    "load_dotenv()\n",
    "os.environ[\"OPENAI_API_KEY\"]=os.getenv(\"OPENAI_API_KEY\")"
   ]
  },
  {
   "cell_type": "code",
   "execution_count": 29,
   "metadata": {},
   "outputs": [
    {
     "data": {
      "text/plain": [
       "OpenAIEmbeddings(client=<openai.resources.embeddings.Embeddings object at 0x00000242A9072A70>, async_client=<openai.resources.embeddings.AsyncEmbeddings object at 0x00000242A9071F60>, model='text-embedding-3-small', dimensions=None, deployment='text-embedding-ada-002', openai_api_version='', openai_api_base=None, openai_api_type='', openai_proxy='', embedding_ctx_length=8191, openai_api_key=SecretStr('**********'), openai_organization=None, allowed_special=None, disallowed_special=None, chunk_size=1000, max_retries=2, request_timeout=None, headers=None, tiktoken_enabled=True, tiktoken_model_name=None, show_progress_bar=False, model_kwargs={}, skip_empty=False, default_headers=None, default_query=None, retry_min_seconds=4, retry_max_seconds=20, http_client=None, http_async_client=None, check_embedding_ctx_length=True)"
      ]
     },
     "execution_count": 29,
     "metadata": {},
     "output_type": "execute_result"
    }
   ],
   "source": [
    "from langchain_openai import OpenAIEmbeddings\n",
    "embeddings=OpenAIEmbeddings(model=\"text-embedding-3-small\")\n",
    "embeddings"
   ]
  },
  {
   "cell_type": "code",
   "execution_count": 38,
   "metadata": {},
   "outputs": [],
   "source": [
    "texts_to_embed=[doc.page_content for doc in token_document]\n",
    "embedd=embeddings.embed_documents(texts_to_embed)"
   ]
  },
  {
   "cell_type": "code",
   "execution_count": 42,
   "metadata": {},
   "outputs": [
    {
     "name": "stdout",
     "output_type": "stream",
     "text": [
      "4\n",
      "1536\n"
     ]
    }
   ],
   "source": [
    "print(len(embedd))\n",
    "print(len(embedd[0]))"
   ]
  },
  {
   "cell_type": "markdown",
   "metadata": {},
   "source": [
    "Store in VectorStore DB"
   ]
  },
  {
   "cell_type": "markdown",
   "metadata": {},
   "source": [
    "Retrieval"
   ]
  }
 ],
 "metadata": {
  "kernelspec": {
   "display_name": "venv",
   "language": "python",
   "name": "python3"
  },
  "language_info": {
   "codemirror_mode": {
    "name": "ipython",
    "version": 3
   },
   "file_extension": ".py",
   "mimetype": "text/x-python",
   "name": "python",
   "nbconvert_exporter": "python",
   "pygments_lexer": "ipython3",
   "version": "3.10.0"
  }
 },
 "nbformat": 4,
 "nbformat_minor": 2
}
